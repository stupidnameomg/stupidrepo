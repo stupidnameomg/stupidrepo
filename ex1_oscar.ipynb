{
 "cells": [
  {
   "cell_type": "markdown",
   "metadata": {},
   "source": [
    "### Imports, downloading the MNIST dataset, and defining system paths to the sub-sets of data."
   ]
  },
  {
   "cell_type": "code",
   "execution_count": 119,
   "metadata": {},
   "outputs": [
    {
     "name": "stdout",
     "output_type": "stream",
     "text": [
      "MNIST already downloaded! Use force_overwrite=True to redownload the dataset.\n"
     ]
    }
   ],
   "source": [
    "%matplotlib inline\n",
    "\n",
    "import os\n",
    "import numpy as np\n",
    "import matplotlib.pyplot as plt\n",
    "import itertools\n",
    "\n",
    "import deeptrack as dt\n",
    "from deeptrack.extras import datasets\n",
    "\n",
    "# Download MNIST\n",
    "datasets.load('MNIST')\n",
    "\n",
    "PATH_TO_DATASET = os.path.abspath('./datasets/MNIST')\n",
    "\n",
    "TRAINING_SET_PATH = os.path.join(PATH_TO_DATASET, 'training_set.npy')\n",
    "TRAINING_LABELS_PATH = os.path.join(PATH_TO_DATASET, 'training_labels.npy')\n",
    "VALIDATION_SET_PATH = os.path.join(PATH_TO_DATASET, 'validation_set.npy')\n",
    "VALIDATION_LABELS_PATH = os.path.join(PATH_TO_DATASET, 'validation_labels.npy')"
   ]
  },
  {
   "cell_type": "markdown",
   "metadata": {},
   "source": [
    "### Loading image data"
   ]
  },
  {
   "cell_type": "markdown",
   "metadata": {},
   "source": [
    "**NOTE**\n",
    "\n",
    "Here we load image data using a dt method, is this a open CV method in disguise or is it doing something very different in order to create a \"feature\"?"
   ]
  },
  {
   "cell_type": "code",
   "execution_count": 21,
   "metadata": {},
   "outputs": [],
   "source": [
    "get_training_images = dt.LoadImage(path=TRAINING_SET_PATH)\n",
    "get_training_labels = dt.LoadImage(path=TRAINING_LABELS_PATH)\n",
    "\n",
    "get_validation_images = dt.LoadImage(path=VALIDATION_SET_PATH)\n",
    "get_validation_labels = dt.LoadImage(path=VALIDATION_LABELS_PATH)"
   ]
  },
  {
   "cell_type": "markdown",
   "metadata": {},
   "source": [
    "**NOTE**\n",
    "\n",
    "Normalizing image values to between 0 and 1. Confused about why this needs to be done using the dt function, probably due to how features behave?"
   ]
  },
  {
   "cell_type": "code",
   "execution_count": 22,
   "metadata": {},
   "outputs": [],
   "source": [
    "normalization = dt.NormalizeMinMax(0,1)\n",
    "\n",
    "get_training_images += normalization\n",
    "get_validation_images += normalization"
   ]
  },
  {
   "cell_type": "markdown",
   "metadata": {},
   "source": [
    "**NOTE**\n",
    "\n",
    "Here the resolution gives us regular ndarrays, I'm assuming?"
   ]
  },
  {
   "cell_type": "code",
   "execution_count": 23,
   "metadata": {},
   "outputs": [],
   "source": [
    "training_images = get_training_images.resolve()\n",
    "training_labels = get_training_labels.resolve()\n",
    "\n",
    "validation_images = get_validation_images.resolve()\n",
    "validation_labels = get_validation_labels.resolve()"
   ]
  },
  {
   "cell_type": "markdown",
   "metadata": {},
   "source": [
    "**NOTE**\n",
    "\n",
    "I have to read up on itertools and what the hell is happening here."
   ]
  },
  {
   "cell_type": "code",
   "execution_count": 24,
   "metadata": {},
   "outputs": [],
   "source": [
    "training_data_iterator = itertools.cycle(training_images)\n",
    "training_label_iterator = itertools.cycle(training_labels)\n",
    "\n",
    "training_iterator = dt.Dataset(\n",
    "    data = training_data_iterator,\n",
    "    label = training_label_iterator\n",
    ")"
   ]
  },
  {
   "cell_type": "markdown",
   "metadata": {},
   "source": [
    "**NOTE**\n",
    "\n",
    "How are these values arrived at? Any tips?\n",
    "\n",
    "I read in the dt.Affine() doc that the order relates to how pixevalues should be interpolated whenever it is needed. It says order 2 is not recommended by skimage, what does this mean and is it relevant to us?\n",
    "\n",
    "I didn't see any description of what mode does in the doc, what is it? I see that it is described in the dt.ElasticTransformation() docs, maybe it should be added to the dt.Affine docstring? I still don't quite understand what it does though."
   ]
  },
  {
   "cell_type": "code",
   "execution_count": 25,
   "metadata": {},
   "outputs": [],
   "source": [
    "# Scale values in x,y\n",
    "scale = {\n",
    "    'x': lambda: 0.8 + np.random.rand() * 0.4,\n",
    "    'y': lambda: 0.8 + np.random.rand() * 0.4\n",
    "}\n",
    "\n",
    "# Translation values in x and y\n",
    "translate_px = {\n",
    "    'x': lambda: int(np.random.randint(-2,3)),\n",
    "    'y': lambda: int(np.random.randint(-2,3))\n",
    "}\n",
    "\n",
    "# Rotation or shear flag\n",
    "should_rotate = lambda: np.random.randint(2)\n",
    "\n",
    "# If rotate, how much?\n",
    "rotate = lambda should_rotate: (-0.35 + np.random.rand() * 0.7) * should_rotate\n",
    "\n",
    "# If shear, how much?\n",
    "shear = lambda should_rotate: (-0.35 + np.random.rand() * 0.7) * (1 - should_rotate)\n",
    "\n",
    "affine_transform = dt.Affine(\n",
    "    scale = scale,\n",
    "    translate_px = translate_px,\n",
    "    should_rotate = should_rotate,\n",
    "    shear = shear,\n",
    "    order = 2,\n",
    "    mode = 'constant'\n",
    ")"
   ]
  },
  {
   "cell_type": "markdown",
   "metadata": {},
   "source": [
    "**NOTE**\n",
    "\n",
    "Is elastic transformation just a \"continuous\" (discrete) deformation, like in topology?"
   ]
  },
  {
   "cell_type": "code",
   "execution_count": 26,
   "metadata": {},
   "outputs": [],
   "source": [
    "elastic_transform = dt.ElasticTransformation(\n",
    "    alpha = lambda: np.random.rand() * 60, # Amplitude of distortions\n",
    "    sigma = lambda: 5 + np.random.rand() * 2, # Granularity of distortions\n",
    "    ignore_last_dim = False, # Last dimension is not a channel, so it should be augmented\n",
    "    mode = 'constant'\n",
    ")"
   ]
  },
  {
   "cell_type": "markdown",
   "metadata": {},
   "source": [
    "**NOTE**\n",
    "\n",
    "Here we clip the images, why not renormalize?"
   ]
  },
  {
   "cell_type": "code",
   "execution_count": 27,
   "metadata": {},
   "outputs": [],
   "source": [
    "clip = dt.Clip(0,1)"
   ]
  },
  {
   "cell_type": "markdown",
   "metadata": {},
   "source": [
    "**NOTE**\n",
    "\n",
    "Is it important that we perform the elastic transformation before the affine ones?"
   ]
  },
  {
   "cell_type": "code",
   "execution_count": 28,
   "metadata": {},
   "outputs": [],
   "source": [
    "augmentation = elastic_transform + affine_transform + clip\n",
    "augmented_training_set = training_iterator + augmentation"
   ]
  },
  {
   "cell_type": "code",
   "execution_count": 29,
   "metadata": {},
   "outputs": [],
   "source": [
    "def get_label(image): return image.get_property('label')"
   ]
  },
  {
   "cell_type": "markdown",
   "metadata": {},
   "source": [
    "***NOTE***\n",
    "\n",
    "How does figsize work? It behaves a little weirdly, maybe it is constrained by the imagesizes?"
   ]
  },
  {
   "cell_type": "code",
   "execution_count": 58,
   "metadata": {},
   "outputs": [
    {
     "data": {
      "image/png": "[encoded data removed]",
      "text/plain": [
       "<Figure size 1080x936 with 5 Axes>"
      ]
     },
     "metadata": {
      "needs_background": "light"
     },
     "output_type": "display_data"
    },
    {
     "data": {
      "image/png": "[encoded data removed]",
      "text/plain": [
       "<Figure size 1080x936 with 5 Axes>"
      ]
     },
     "metadata": {
      "needs_background": "light"
     },
     "output_type": "display_data"
    },
    {
     "data": {
      "image/png": "[encoded data removed]",
      "text/plain": [
       "<Figure size 1080x936 with 5 Axes>"
      ]
     },
     "metadata": {
      "needs_background": "light"
     },
     "output_type": "display_data"
    },
    {
     "data": {
      "image/png": "[encoded data removed]",
      "text/plain": [
       "<Figure size 1080x936 with 5 Axes>"
      ]
     },
     "metadata": {
      "needs_background": "light"
     },
     "output_type": "display_data"
    },
    {
     "data": {
      "image/png": "[encoded data removed]",
      "text/plain": [
       "<Figure size 1080x936 with 5 Axes>"
      ]
     },
     "metadata": {
      "needs_background": "light"
     },
     "output_type": "display_data"
    },
    {
     "data": {
      "image/png": "[encoded data removed]",
      "text/plain": [
       "<Figure size 1080x936 with 5 Axes>"
      ]
     },
     "metadata": {
      "needs_background": "light"
     },
     "output_type": "display_data"
    },
    {
     "data": {
      "image/png": "[encoded data removed]",
      "text/plain": [
       "<Figure size 1080x936 with 5 Axes>"
      ]
     },
     "metadata": {
      "needs_background": "light"
     },
     "output_type": "display_data"
    },
    {
     "data": {
      "image/png": "[encoded data removed]",
      "text/plain": [
       "<Figure size 1080x936 with 5 Axes>"
      ]
     },
     "metadata": {
      "needs_background": "light"
     },
     "output_type": "display_data"
    },
    {
     "data": {
      "image/png": "[encoded data removed]",
      "text/plain": [
       "<Figure size 1080x936 with 5 Axes>"
      ]
     },
     "metadata": {
      "needs_background": "light"
     },
     "output_type": "display_data"
    },
    {
     "data": {
      "image/png": "[encoded data removed]",
      "text/plain": [
       "<Figure size 1080x936 with 5 Axes>"
      ]
     },
     "metadata": {
      "needs_background": "light"
     },
     "output_type": "display_data"
    }
   ],
   "source": [
    "NUMBER_OF_IMAGES = 10\n",
    "\n",
    "for image_index in range(NUMBER_OF_IMAGES):\n",
    "    augmented_training_set.update()\n",
    "\n",
    "    original_image = training_iterator.resolve()\n",
    "\n",
    "    plt.figure(figsize=(15,13))\n",
    "    plt.subplot(1,6,1)\n",
    "    plt.imshow(original_image)\n",
    "    plt.axis('off')\n",
    "    plt.title(\"Original image\")\n",
    "\n",
    "    for sub_plt in range(3,7):\n",
    "        # Only update the augmentation\n",
    "        augmentation.update()\n",
    "        augmented_image = augmented_training_set.resolve()\n",
    "        plt.subplot(1, 6, sub_plt)\n",
    "        plt.imshow(augmented_image)\n",
    "        plt.axis('off')\n",
    "        plt.title(\"Augmented image\")\n",
    "plt.show()"
   ]
  },
  {
   "cell_type": "markdown",
   "metadata": {},
   "source": [
    "**NOTE**\n",
    "\n",
    "What is the dropout parameter? It doesn't seem to be included in the docstring.\n",
    "\n",
    "I'm guessing this is where most of what we need to learn is. General talking points on choosing type of model, model parameters and adjusting hyperparameters would be awesome!"
   ]
  },
  {
   "cell_type": "code",
   "execution_count": 48,
   "metadata": {},
   "outputs": [
    {
     "name": "stderr",
     "output_type": "stream",
     "text": [
      "2022-01-23 16:29:27.623706: I tensorflow/core/platform/cpu_feature_guard.cc:151] This TensorFlow binary is optimized with oneAPI Deep Neural Network Library (oneDNN) to use the following CPU instructions in performance-critical operations:  AVX2 FMA\n",
      "To enable them in other operations, rebuild TensorFlow with the appropriate compiler flags.\n"
     ]
    }
   ],
   "source": [
    "model = dt.models.FullyConnected(\n",
    "    input_shape = (28, 28),\n",
    "    dense_layers_dimensions = (2000, 1500, 1000, 500),\n",
    "    number_of_outputs = 10,\n",
    "    dropout = (0.25, 0.25),\n",
    "    output_activation = 'softmax',\n",
    "    loss = 'sparse_categorical_crossentropy',\n",
    "    metrics = ['accuracy'],\n",
    "    optimizer = 'rmsprop'\n",
    ")"
   ]
  },
  {
   "cell_type": "code",
   "execution_count": 50,
   "metadata": {},
   "outputs": [
    {
     "name": "stdout",
     "output_type": "stream",
     "text": [
      "Epoch 1/200\n",
      "100/100 [==============================] - 27s 260ms/step - loss: 2.3966 - accuracy: 0.2727 - val_loss: 0.9798 - val_accuracy: 0.7143\n",
      "Epoch 2/200\n",
      "100/100 [==============================] - 26s 259ms/step - loss: 1.4818 - accuracy: 0.4969 - val_loss: 0.6937 - val_accuracy: 0.7890\n",
      "Epoch 3/200\n",
      "100/100 [==============================] - 25s 249ms/step - loss: 1.1563 - accuracy: 0.6183 - val_loss: 0.6378 - val_accuracy: 0.7844\n",
      "Epoch 4/200\n",
      "100/100 [==============================] - 25s 254ms/step - loss: 0.8904 - accuracy: 0.7083 - val_loss: 0.4630 - val_accuracy: 0.8554\n",
      "Epoch 5/200\n",
      "100/100 [==============================] - 26s 263ms/step - loss: 0.8125 - accuracy: 0.7359 - val_loss: 0.3883 - val_accuracy: 0.8799\n",
      "Epoch 6/200\n",
      "100/100 [==============================] - 26s 262ms/step - loss: 0.7358 - accuracy: 0.7611 - val_loss: 0.3213 - val_accuracy: 0.9011\n",
      "Epoch 7/200\n",
      "100/100 [==============================] - 28s 285ms/step - loss: 0.6383 - accuracy: 0.7930 - val_loss: 0.3135 - val_accuracy: 0.8985\n",
      "Epoch 8/200\n",
      "100/100 [==============================] - 23s 234ms/step - loss: 0.6333 - accuracy: 0.7958 - val_loss: 0.2506 - val_accuracy: 0.9229\n",
      "Epoch 9/200\n",
      "100/100 [==============================] - 25s 251ms/step - loss: 0.5549 - accuracy: 0.8189 - val_loss: 0.2286 - val_accuracy: 0.9300\n",
      "Epoch 10/200\n",
      "100/100 [==============================] - 23s 228ms/step - loss: 0.4958 - accuracy: 0.8436 - val_loss: 0.3161 - val_accuracy: 0.8945\n",
      "Epoch 11/200\n",
      "100/100 [==============================] - 22s 220ms/step - loss: 0.5005 - accuracy: 0.8420 - val_loss: 0.2165 - val_accuracy: 0.9284\n",
      "Epoch 12/200\n",
      "100/100 [==============================] - 21s 212ms/step - loss: 0.4944 - accuracy: 0.8355 - val_loss: 0.2042 - val_accuracy: 0.9352\n",
      "Epoch 13/200\n",
      "100/100 [==============================] - 22s 217ms/step - loss: 0.4756 - accuracy: 0.8512 - val_loss: 0.2143 - val_accuracy: 0.9305\n",
      "Epoch 14/200\n",
      "100/100 [==============================] - 22s 220ms/step - loss: 0.4730 - accuracy: 0.8495 - val_loss: 0.1809 - val_accuracy: 0.9397\n",
      "Epoch 15/200\n",
      "100/100 [==============================] - 22s 218ms/step - loss: 0.4460 - accuracy: 0.8570 - val_loss: 0.2188 - val_accuracy: 0.9315\n",
      "Epoch 16/200\n",
      "100/100 [==============================] - 22s 220ms/step - loss: 0.4697 - accuracy: 0.8537 - val_loss: 0.1827 - val_accuracy: 0.9413\n",
      "Epoch 17/200\n",
      "100/100 [==============================] - 21s 212ms/step - loss: 0.4223 - accuracy: 0.8658 - val_loss: 0.1533 - val_accuracy: 0.9518\n",
      "Epoch 18/200\n",
      "100/100 [==============================] - 23s 228ms/step - loss: 0.4421 - accuracy: 0.8581 - val_loss: 0.1659 - val_accuracy: 0.9494\n",
      "Epoch 19/200\n",
      "100/100 [==============================] - 22s 226ms/step - loss: 0.3702 - accuracy: 0.8881 - val_loss: 0.1444 - val_accuracy: 0.9548\n",
      "Epoch 20/200\n",
      "100/100 [==============================] - 22s 226ms/step - loss: 0.3632 - accuracy: 0.8852 - val_loss: 0.1462 - val_accuracy: 0.9512\n",
      "Epoch 21/200\n",
      "100/100 [==============================] - 22s 222ms/step - loss: 0.4157 - accuracy: 0.8677 - val_loss: 0.1679 - val_accuracy: 0.9437\n",
      "Epoch 22/200\n",
      "100/100 [==============================] - 22s 219ms/step - loss: 0.3809 - accuracy: 0.8814 - val_loss: 0.1323 - val_accuracy: 0.9584\n",
      "Epoch 23/200\n",
      "100/100 [==============================] - 22s 219ms/step - loss: 0.3847 - accuracy: 0.8731 - val_loss: 0.1655 - val_accuracy: 0.9493\n",
      "Epoch 24/200\n",
      "100/100 [==============================] - 21s 215ms/step - loss: 0.3851 - accuracy: 0.8797 - val_loss: 0.1454 - val_accuracy: 0.9554\n",
      "Epoch 25/200\n",
      "100/100 [==============================] - 21s 210ms/step - loss: 0.3766 - accuracy: 0.8827 - val_loss: 0.1403 - val_accuracy: 0.9586\n",
      "Epoch 26/200\n",
      "100/100 [==============================] - 21s 210ms/step - loss: 0.4043 - accuracy: 0.8766 - val_loss: 0.1381 - val_accuracy: 0.9565\n",
      "Epoch 27/200\n",
      "100/100 [==============================] - 22s 222ms/step - loss: 0.3667 - accuracy: 0.8852 - val_loss: 0.1283 - val_accuracy: 0.9609\n",
      "Epoch 28/200\n",
      "100/100 [==============================] - 22s 219ms/step - loss: 0.3192 - accuracy: 0.8973 - val_loss: 0.1351 - val_accuracy: 0.9564\n",
      "Epoch 29/200\n",
      "100/100 [==============================] - 24s 247ms/step - loss: 0.3216 - accuracy: 0.8988 - val_loss: 0.1232 - val_accuracy: 0.9617\n",
      "Epoch 30/200\n",
      "100/100 [==============================] - 22s 217ms/step - loss: 0.3257 - accuracy: 0.8981 - val_loss: 0.1438 - val_accuracy: 0.9542\n",
      "Epoch 31/200\n",
      "100/100 [==============================] - 24s 244ms/step - loss: 0.3493 - accuracy: 0.8952 - val_loss: 0.1364 - val_accuracy: 0.9550\n",
      "Epoch 32/200\n",
      "100/100 [==============================] - 24s 239ms/step - loss: 0.3356 - accuracy: 0.8905 - val_loss: 0.1410 - val_accuracy: 0.9563\n",
      "Epoch 33/200\n",
      "100/100 [==============================] - 21s 212ms/step - loss: 0.3387 - accuracy: 0.8959 - val_loss: 0.1450 - val_accuracy: 0.9550\n",
      "Epoch 34/200\n",
      "100/100 [==============================] - 22s 225ms/step - loss: 0.3276 - accuracy: 0.8948 - val_loss: 0.1174 - val_accuracy: 0.9637\n",
      "Epoch 35/200\n",
      "100/100 [==============================] - 22s 219ms/step - loss: 0.3373 - accuracy: 0.8952 - val_loss: 0.1211 - val_accuracy: 0.9631\n",
      "Epoch 36/200\n",
      "100/100 [==============================] - 22s 220ms/step - loss: 0.3496 - accuracy: 0.8863 - val_loss: 0.1255 - val_accuracy: 0.9612\n",
      "Epoch 37/200\n",
      "100/100 [==============================] - 22s 227ms/step - loss: 0.2995 - accuracy: 0.9053 - val_loss: 0.1331 - val_accuracy: 0.9585\n",
      "Epoch 38/200\n",
      "100/100 [==============================] - 22s 219ms/step - loss: 0.2640 - accuracy: 0.9184 - val_loss: 0.1036 - val_accuracy: 0.9658\n",
      "Epoch 39/200\n",
      "100/100 [==============================] - 21s 215ms/step - loss: 0.3141 - accuracy: 0.9003 - val_loss: 0.1263 - val_accuracy: 0.9611\n",
      "Epoch 40/200\n",
      "100/100 [==============================] - 21s 215ms/step - loss: 0.3084 - accuracy: 0.9034 - val_loss: 0.1186 - val_accuracy: 0.9640\n",
      "Epoch 41/200\n",
      "100/100 [==============================] - 21s 212ms/step - loss: 0.3083 - accuracy: 0.9047 - val_loss: 0.1136 - val_accuracy: 0.9644\n",
      "Epoch 42/200\n",
      "100/100 [==============================] - 21s 208ms/step - loss: 0.3111 - accuracy: 0.9013 - val_loss: 0.1026 - val_accuracy: 0.9674\n",
      "Epoch 43/200\n",
      "100/100 [==============================] - 21s 216ms/step - loss: 0.3118 - accuracy: 0.9056 - val_loss: 0.1114 - val_accuracy: 0.9653\n",
      "Epoch 44/200\n",
      "100/100 [==============================] - 23s 233ms/step - loss: 0.3131 - accuracy: 0.9073 - val_loss: 0.0982 - val_accuracy: 0.9697\n",
      "Epoch 45/200\n",
      "100/100 [==============================] - 23s 230ms/step - loss: 0.3105 - accuracy: 0.9016 - val_loss: 0.0961 - val_accuracy: 0.9711\n",
      "Epoch 46/200\n",
      "100/100 [==============================] - 22s 220ms/step - loss: 0.2915 - accuracy: 0.9070 - val_loss: 0.0943 - val_accuracy: 0.9700\n",
      "Epoch 47/200\n",
      "100/100 [==============================] - 23s 228ms/step - loss: 0.2569 - accuracy: 0.9236 - val_loss: 0.1102 - val_accuracy: 0.9651\n",
      "Epoch 48/200\n",
      "100/100 [==============================] - 23s 233ms/step - loss: 0.2738 - accuracy: 0.9120 - val_loss: 0.1189 - val_accuracy: 0.9625\n",
      "Epoch 49/200\n",
      "100/100 [==============================] - 21s 209ms/step - loss: 0.2955 - accuracy: 0.9083 - val_loss: 0.0976 - val_accuracy: 0.9692\n",
      "Epoch 50/200\n",
      "100/100 [==============================] - 21s 210ms/step - loss: 0.2933 - accuracy: 0.9081 - val_loss: 0.0997 - val_accuracy: 0.9683\n",
      "Epoch 51/200\n",
      "100/100 [==============================] - 21s 213ms/step - loss: 0.2726 - accuracy: 0.9147 - val_loss: 0.0966 - val_accuracy: 0.9712\n",
      "Epoch 52/200\n",
      "100/100 [==============================] - 21s 213ms/step - loss: 0.3055 - accuracy: 0.9011 - val_loss: 0.0904 - val_accuracy: 0.9703\n",
      "Epoch 53/200\n",
      "100/100 [==============================] - 21s 212ms/step - loss: 0.2625 - accuracy: 0.9169 - val_loss: 0.1000 - val_accuracy: 0.9703\n",
      "Epoch 54/200\n",
      "100/100 [==============================] - 21s 215ms/step - loss: 0.2770 - accuracy: 0.9123 - val_loss: 0.0985 - val_accuracy: 0.9693\n",
      "Epoch 55/200\n",
      "100/100 [==============================] - 21s 213ms/step - loss: 0.2737 - accuracy: 0.9123 - val_loss: 0.1002 - val_accuracy: 0.9674\n",
      "Epoch 56/200\n",
      "100/100 [==============================] - 21s 210ms/step - loss: 0.2693 - accuracy: 0.9142 - val_loss: 0.1090 - val_accuracy: 0.9646\n",
      "Epoch 57/200\n",
      "100/100 [==============================] - 21s 213ms/step - loss: 0.2410 - accuracy: 0.9284 - val_loss: 0.0999 - val_accuracy: 0.9688\n",
      "Epoch 58/200\n",
      "100/100 [==============================] - 21s 215ms/step - loss: 0.2772 - accuracy: 0.9120 - val_loss: 0.1143 - val_accuracy: 0.9634\n",
      "Epoch 59/200\n",
      "100/100 [==============================] - 21s 212ms/step - loss: 0.2777 - accuracy: 0.9075 - val_loss: 0.1125 - val_accuracy: 0.9637\n",
      "Epoch 60/200\n",
      "100/100 [==============================] - 21s 214ms/step - loss: 0.2645 - accuracy: 0.9167 - val_loss: 0.0930 - val_accuracy: 0.9718\n",
      "Epoch 61/200\n",
      "100/100 [==============================] - 21s 214ms/step - loss: 0.2717 - accuracy: 0.9169 - val_loss: 0.0928 - val_accuracy: 0.9714\n",
      "Epoch 62/200\n",
      "100/100 [==============================] - 21s 211ms/step - loss: 0.2602 - accuracy: 0.9220 - val_loss: 0.0949 - val_accuracy: 0.9709\n",
      "Epoch 63/200\n",
      "100/100 [==============================] - 21s 212ms/step - loss: 0.2875 - accuracy: 0.9119 - val_loss: 0.0842 - val_accuracy: 0.9748\n",
      "Epoch 64/200\n",
      "100/100 [==============================] - 21s 213ms/step - loss: 0.2785 - accuracy: 0.9134 - val_loss: 0.0830 - val_accuracy: 0.9725\n",
      "Epoch 65/200\n",
      "100/100 [==============================] - 21s 213ms/step - loss: 0.2475 - accuracy: 0.9225 - val_loss: 0.0914 - val_accuracy: 0.9710\n",
      "Epoch 66/200\n",
      "100/100 [==============================] - 21s 213ms/step - loss: 0.2272 - accuracy: 0.9298 - val_loss: 0.0863 - val_accuracy: 0.9738\n",
      "Epoch 67/200\n",
      "100/100 [==============================] - 21s 216ms/step - loss: 0.2507 - accuracy: 0.9259 - val_loss: 0.0903 - val_accuracy: 0.9742\n",
      "Epoch 68/200\n",
      "100/100 [==============================] - 21s 212ms/step - loss: 0.2528 - accuracy: 0.9180 - val_loss: 0.0863 - val_accuracy: 0.9724\n",
      "Epoch 69/200\n",
      "100/100 [==============================] - 21s 216ms/step - loss: 0.2514 - accuracy: 0.9237 - val_loss: 0.0881 - val_accuracy: 0.9724\n",
      "Epoch 70/200\n",
      "100/100 [==============================] - 21s 214ms/step - loss: 0.2472 - accuracy: 0.9195 - val_loss: 0.0797 - val_accuracy: 0.9750\n",
      "Epoch 71/200\n",
      "100/100 [==============================] - 21s 211ms/step - loss: 0.2588 - accuracy: 0.9225 - val_loss: 0.0799 - val_accuracy: 0.9754\n",
      "Epoch 72/200\n",
      "100/100 [==============================] - 21s 213ms/step - loss: 0.2542 - accuracy: 0.9219 - val_loss: 0.0803 - val_accuracy: 0.9756\n",
      "Epoch 73/200\n",
      "100/100 [==============================] - 21s 213ms/step - loss: 0.2529 - accuracy: 0.9211 - val_loss: 0.0890 - val_accuracy: 0.9730\n",
      "Epoch 74/200\n",
      "100/100 [==============================] - 21s 214ms/step - loss: 0.2530 - accuracy: 0.9242 - val_loss: 0.0894 - val_accuracy: 0.9706\n",
      "Epoch 75/200\n",
      "100/100 [==============================] - 21s 210ms/step - loss: 0.2220 - accuracy: 0.9325 - val_loss: 0.1114 - val_accuracy: 0.9655\n",
      "Epoch 76/200\n",
      "100/100 [==============================] - 21s 214ms/step - loss: 0.2362 - accuracy: 0.9289 - val_loss: 0.1203 - val_accuracy: 0.9632\n",
      "Epoch 77/200\n",
      "100/100 [==============================] - 21s 216ms/step - loss: 0.2533 - accuracy: 0.9195 - val_loss: 0.0960 - val_accuracy: 0.9714\n",
      "Epoch 78/200\n",
      "100/100 [==============================] - 21s 211ms/step - loss: 0.2413 - accuracy: 0.9227 - val_loss: 0.0959 - val_accuracy: 0.9685\n",
      "Epoch 79/200\n",
      "100/100 [==============================] - 21s 210ms/step - loss: 0.2462 - accuracy: 0.9237 - val_loss: 0.0870 - val_accuracy: 0.9731\n",
      "Epoch 80/200\n",
      "100/100 [==============================] - 21s 210ms/step - loss: 0.2764 - accuracy: 0.9152 - val_loss: 0.0876 - val_accuracy: 0.9733\n",
      "Epoch 81/200\n",
      "100/100 [==============================] - 21s 208ms/step - loss: 0.2430 - accuracy: 0.9250 - val_loss: 0.0829 - val_accuracy: 0.9742\n",
      "Epoch 82/200\n",
      "100/100 [==============================] - 21s 210ms/step - loss: 0.2539 - accuracy: 0.9217 - val_loss: 0.0808 - val_accuracy: 0.9735\n",
      "Epoch 83/200\n",
      "100/100 [==============================] - 21s 209ms/step - loss: 0.2651 - accuracy: 0.9175 - val_loss: 0.0959 - val_accuracy: 0.9698\n",
      "Epoch 84/200\n",
      "100/100 [==============================] - 21s 210ms/step - loss: 0.2398 - accuracy: 0.9239 - val_loss: 0.1024 - val_accuracy: 0.9687\n",
      "Epoch 85/200\n",
      "100/100 [==============================] - 21s 210ms/step - loss: 0.2265 - accuracy: 0.9305 - val_loss: 0.0774 - val_accuracy: 0.9760\n",
      "Epoch 86/200\n",
      "100/100 [==============================] - 21s 209ms/step - loss: 0.2540 - accuracy: 0.9217 - val_loss: 0.0878 - val_accuracy: 0.9715\n",
      "Epoch 87/200\n",
      "100/100 [==============================] - 21s 210ms/step - loss: 0.2496 - accuracy: 0.9239 - val_loss: 0.0820 - val_accuracy: 0.9755\n",
      "Epoch 88/200\n",
      "100/100 [==============================] - 21s 210ms/step - loss: 0.2307 - accuracy: 0.9258 - val_loss: 0.0858 - val_accuracy: 0.9717\n",
      "Epoch 89/200\n",
      "100/100 [==============================] - 21s 209ms/step - loss: 0.2392 - accuracy: 0.9253 - val_loss: 0.0774 - val_accuracy: 0.9766\n",
      "Epoch 90/200\n",
      "100/100 [==============================] - 21s 210ms/step - loss: 0.2387 - accuracy: 0.9259 - val_loss: 0.0726 - val_accuracy: 0.9774\n",
      "Epoch 91/200\n",
      "100/100 [==============================] - 21s 209ms/step - loss: 0.2355 - accuracy: 0.9267 - val_loss: 0.0700 - val_accuracy: 0.9784\n",
      "Epoch 92/200\n",
      "100/100 [==============================] - 21s 209ms/step - loss: 0.2526 - accuracy: 0.9230 - val_loss: 0.0826 - val_accuracy: 0.9745\n",
      "Epoch 93/200\n",
      "100/100 [==============================] - 21s 209ms/step - loss: 0.2399 - accuracy: 0.9253 - val_loss: 0.0783 - val_accuracy: 0.9757\n",
      "Epoch 94/200\n",
      "100/100 [==============================] - 21s 209ms/step - loss: 0.2246 - accuracy: 0.9337 - val_loss: 0.0846 - val_accuracy: 0.9744\n",
      "Epoch 95/200\n",
      "100/100 [==============================] - 21s 210ms/step - loss: 0.2387 - accuracy: 0.9284 - val_loss: 0.0931 - val_accuracy: 0.9713\n",
      "Epoch 96/200\n",
      "100/100 [==============================] - 21s 209ms/step - loss: 0.2347 - accuracy: 0.9252 - val_loss: 0.0784 - val_accuracy: 0.9773\n",
      "Epoch 97/200\n",
      "100/100 [==============================] - 21s 209ms/step - loss: 0.2393 - accuracy: 0.9275 - val_loss: 0.0701 - val_accuracy: 0.9780\n",
      "Epoch 98/200\n",
      "100/100 [==============================] - 21s 211ms/step - loss: 0.2353 - accuracy: 0.9295 - val_loss: 0.0747 - val_accuracy: 0.9770\n",
      "Epoch 99/200\n",
      "100/100 [==============================] - 21s 209ms/step - loss: 0.2319 - accuracy: 0.9272 - val_loss: 0.0868 - val_accuracy: 0.9741\n",
      "Epoch 100/200\n",
      "100/100 [==============================] - 21s 208ms/step - loss: 0.2321 - accuracy: 0.9305 - val_loss: 0.0853 - val_accuracy: 0.9743\n",
      "Epoch 101/200\n",
      "100/100 [==============================] - 21s 210ms/step - loss: 0.2428 - accuracy: 0.9256 - val_loss: 0.0781 - val_accuracy: 0.9739\n",
      "Epoch 102/200\n",
      "100/100 [==============================] - 21s 209ms/step - loss: 0.2234 - accuracy: 0.9281 - val_loss: 0.0826 - val_accuracy: 0.9733\n",
      "Epoch 103/200\n",
      "100/100 [==============================] - 21s 207ms/step - loss: 0.2031 - accuracy: 0.9359 - val_loss: 0.0810 - val_accuracy: 0.9744\n",
      "Epoch 104/200\n",
      "100/100 [==============================] - 21s 209ms/step - loss: 0.2175 - accuracy: 0.9334 - val_loss: 0.0752 - val_accuracy: 0.9760\n",
      "Epoch 105/200\n",
      "100/100 [==============================] - 21s 209ms/step - loss: 0.2367 - accuracy: 0.9266 - val_loss: 0.0854 - val_accuracy: 0.9730\n",
      "Epoch 106/200\n",
      "100/100 [==============================] - 21s 210ms/step - loss: 0.2403 - accuracy: 0.9264 - val_loss: 0.0682 - val_accuracy: 0.9787\n",
      "Epoch 107/200\n",
      "100/100 [==============================] - 21s 210ms/step - loss: 0.2195 - accuracy: 0.9316 - val_loss: 0.0760 - val_accuracy: 0.9774\n",
      "Epoch 108/200\n",
      "100/100 [==============================] - 21s 209ms/step - loss: 0.2326 - accuracy: 0.9284 - val_loss: 0.0771 - val_accuracy: 0.9754\n",
      "Epoch 109/200\n",
      "100/100 [==============================] - 21s 209ms/step - loss: 0.2287 - accuracy: 0.9273 - val_loss: 0.0670 - val_accuracy: 0.9787\n",
      "Epoch 110/200\n",
      "100/100 [==============================] - 21s 210ms/step - loss: 0.2221 - accuracy: 0.9316 - val_loss: 0.0718 - val_accuracy: 0.9749\n",
      "Epoch 111/200\n",
      "100/100 [==============================] - 21s 210ms/step - loss: 0.2374 - accuracy: 0.9258 - val_loss: 0.0704 - val_accuracy: 0.9786\n",
      "Epoch 112/200\n",
      "100/100 [==============================] - 21s 207ms/step - loss: 0.2219 - accuracy: 0.9308 - val_loss: 0.0738 - val_accuracy: 0.9785\n",
      "Epoch 113/200\n",
      "100/100 [==============================] - 21s 209ms/step - loss: 0.2029 - accuracy: 0.9406 - val_loss: 0.0712 - val_accuracy: 0.9775\n",
      "Epoch 114/200\n",
      "100/100 [==============================] - 21s 207ms/step - loss: 0.2322 - accuracy: 0.9272 - val_loss: 0.0747 - val_accuracy: 0.9761\n",
      "Epoch 115/200\n",
      "100/100 [==============================] - 21s 211ms/step - loss: 0.2232 - accuracy: 0.9294 - val_loss: 0.0725 - val_accuracy: 0.9773\n",
      "Epoch 116/200\n",
      "100/100 [==============================] - 21s 208ms/step - loss: 0.2185 - accuracy: 0.9339 - val_loss: 0.0687 - val_accuracy: 0.9790\n",
      "Epoch 117/200\n",
      "100/100 [==============================] - 21s 207ms/step - loss: 0.2175 - accuracy: 0.9322 - val_loss: 0.0698 - val_accuracy: 0.9786\n",
      "Epoch 118/200\n",
      "100/100 [==============================] - 21s 209ms/step - loss: 0.2373 - accuracy: 0.9234 - val_loss: 0.0785 - val_accuracy: 0.9766\n",
      "Epoch 119/200\n",
      "100/100 [==============================] - 21s 208ms/step - loss: 0.2453 - accuracy: 0.9250 - val_loss: 0.0754 - val_accuracy: 0.9769\n",
      "Epoch 120/200\n",
      "100/100 [==============================] - 21s 209ms/step - loss: 0.2397 - accuracy: 0.9258 - val_loss: 0.0693 - val_accuracy: 0.9776\n",
      "Epoch 121/200\n",
      "100/100 [==============================] - 21s 208ms/step - loss: 0.2300 - accuracy: 0.9305 - val_loss: 0.0684 - val_accuracy: 0.9766\n",
      "Epoch 122/200\n",
      "100/100 [==============================] - 21s 210ms/step - loss: 0.1900 - accuracy: 0.9420 - val_loss: 0.0668 - val_accuracy: 0.9790\n",
      "Epoch 123/200\n",
      "100/100 [==============================] - 21s 208ms/step - loss: 0.2005 - accuracy: 0.9372 - val_loss: 0.0718 - val_accuracy: 0.9778\n",
      "Epoch 124/200\n",
      "100/100 [==============================] - 21s 207ms/step - loss: 0.2091 - accuracy: 0.9339 - val_loss: 0.0705 - val_accuracy: 0.9768\n",
      "Epoch 125/200\n",
      "100/100 [==============================] - 21s 210ms/step - loss: 0.2264 - accuracy: 0.9302 - val_loss: 0.0769 - val_accuracy: 0.9760\n",
      "Epoch 126/200\n",
      "100/100 [==============================] - 21s 210ms/step - loss: 0.2131 - accuracy: 0.9336 - val_loss: 0.0723 - val_accuracy: 0.9764\n",
      "Epoch 127/200\n",
      "100/100 [==============================] - 21s 209ms/step - loss: 0.2157 - accuracy: 0.9306 - val_loss: 0.0753 - val_accuracy: 0.9768\n",
      "Epoch 128/200\n",
      "100/100 [==============================] - 21s 209ms/step - loss: 0.2032 - accuracy: 0.9381 - val_loss: 0.0834 - val_accuracy: 0.9740\n",
      "Epoch 129/200\n",
      "100/100 [==============================] - 21s 210ms/step - loss: 0.2123 - accuracy: 0.9311 - val_loss: 0.0736 - val_accuracy: 0.9751\n",
      "Epoch 130/200\n",
      "100/100 [==============================] - 21s 209ms/step - loss: 0.2226 - accuracy: 0.9272 - val_loss: 0.0604 - val_accuracy: 0.9810\n",
      "Epoch 131/200\n",
      "100/100 [==============================] - 21s 210ms/step - loss: 0.2044 - accuracy: 0.9369 - val_loss: 0.0819 - val_accuracy: 0.9752\n",
      "Epoch 132/200\n",
      "100/100 [==============================] - 21s 209ms/step - loss: 0.1939 - accuracy: 0.9413 - val_loss: 0.0694 - val_accuracy: 0.9792\n",
      "Epoch 133/200\n",
      "100/100 [==============================] - 21s 210ms/step - loss: 0.2052 - accuracy: 0.9364 - val_loss: 0.0738 - val_accuracy: 0.9769\n",
      "Epoch 134/200\n",
      "100/100 [==============================] - 21s 209ms/step - loss: 0.2115 - accuracy: 0.9362 - val_loss: 0.0699 - val_accuracy: 0.9780\n",
      "Epoch 135/200\n",
      "100/100 [==============================] - 21s 208ms/step - loss: 0.1968 - accuracy: 0.9397 - val_loss: 0.0649 - val_accuracy: 0.9794\n",
      "Epoch 136/200\n",
      "100/100 [==============================] - 21s 209ms/step - loss: 0.2102 - accuracy: 0.9341 - val_loss: 0.0629 - val_accuracy: 0.9799\n",
      "Epoch 137/200\n",
      "100/100 [==============================] - 21s 209ms/step - loss: 0.2097 - accuracy: 0.9341 - val_loss: 0.0722 - val_accuracy: 0.9780\n",
      "Epoch 138/200\n",
      "100/100 [==============================] - 21s 211ms/step - loss: 0.2267 - accuracy: 0.9306 - val_loss: 0.0740 - val_accuracy: 0.9763\n",
      "Epoch 139/200\n",
      "100/100 [==============================] - 21s 209ms/step - loss: 0.2265 - accuracy: 0.9312 - val_loss: 0.0720 - val_accuracy: 0.9770\n",
      "Epoch 140/200\n",
      "100/100 [==============================] - 21s 210ms/step - loss: 0.2076 - accuracy: 0.9353 - val_loss: 0.0837 - val_accuracy: 0.9747\n",
      "Epoch 141/200\n",
      "100/100 [==============================] - 21s 208ms/step - loss: 0.1849 - accuracy: 0.9448 - val_loss: 0.0721 - val_accuracy: 0.9781\n",
      "Epoch 142/200\n",
      "100/100 [==============================] - 21s 212ms/step - loss: 0.2194 - accuracy: 0.9316 - val_loss: 0.0667 - val_accuracy: 0.9806\n",
      "Epoch 143/200\n",
      "100/100 [==============================] - 21s 215ms/step - loss: 0.1950 - accuracy: 0.9377 - val_loss: 0.0650 - val_accuracy: 0.9784\n",
      "Epoch 144/200\n",
      "100/100 [==============================] - 22s 223ms/step - loss: 0.1997 - accuracy: 0.9414 - val_loss: 0.0660 - val_accuracy: 0.9779\n",
      "Epoch 145/200\n",
      "100/100 [==============================] - 21s 213ms/step - loss: 0.2101 - accuracy: 0.9372 - val_loss: 0.0595 - val_accuracy: 0.9819\n",
      "Epoch 146/200\n",
      "100/100 [==============================] - 21s 213ms/step - loss: 0.2088 - accuracy: 0.9314 - val_loss: 0.0600 - val_accuracy: 0.9820\n",
      "Epoch 147/200\n",
      "100/100 [==============================] - 21s 212ms/step - loss: 0.2138 - accuracy: 0.9334 - val_loss: 0.0762 - val_accuracy: 0.9770\n",
      "Epoch 148/200\n",
      "100/100 [==============================] - 21s 214ms/step - loss: 0.2202 - accuracy: 0.9347 - val_loss: 0.0630 - val_accuracy: 0.9805\n",
      "Epoch 149/200\n",
      "100/100 [==============================] - 21s 210ms/step - loss: 0.2223 - accuracy: 0.9320 - val_loss: 0.0649 - val_accuracy: 0.9803\n",
      "Epoch 150/200\n",
      "100/100 [==============================] - 21s 211ms/step - loss: 0.1824 - accuracy: 0.9428 - val_loss: 0.0729 - val_accuracy: 0.9775\n",
      "Epoch 151/200\n",
      "100/100 [==============================] - 21s 211ms/step - loss: 0.2030 - accuracy: 0.9389 - val_loss: 0.0742 - val_accuracy: 0.9775\n",
      "Epoch 152/200\n",
      "100/100 [==============================] - 21s 212ms/step - loss: 0.2121 - accuracy: 0.9353 - val_loss: 0.0698 - val_accuracy: 0.9787\n",
      "Epoch 153/200\n",
      "100/100 [==============================] - 21s 212ms/step - loss: 0.2169 - accuracy: 0.9317 - val_loss: 0.0753 - val_accuracy: 0.9770\n",
      "Epoch 154/200\n",
      "100/100 [==============================] - 21s 213ms/step - loss: 0.1913 - accuracy: 0.9417 - val_loss: 0.0728 - val_accuracy: 0.9763\n",
      "Epoch 155/200\n",
      "100/100 [==============================] - 21s 211ms/step - loss: 0.2320 - accuracy: 0.9259 - val_loss: 0.0683 - val_accuracy: 0.9781\n",
      "Epoch 156/200\n",
      "100/100 [==============================] - 21s 209ms/step - loss: 0.2155 - accuracy: 0.9334 - val_loss: 0.0620 - val_accuracy: 0.9800\n",
      "Epoch 157/200\n",
      "100/100 [==============================] - 21s 212ms/step - loss: 0.2069 - accuracy: 0.9356 - val_loss: 0.0657 - val_accuracy: 0.9798\n",
      "Epoch 158/200\n",
      "100/100 [==============================] - 21s 213ms/step - loss: 0.2300 - accuracy: 0.9330 - val_loss: 0.0582 - val_accuracy: 0.9815\n",
      "Epoch 159/200\n",
      "100/100 [==============================] - 21s 214ms/step - loss: 0.2062 - accuracy: 0.9377 - val_loss: 0.0666 - val_accuracy: 0.9796\n",
      "Epoch 160/200\n",
      "100/100 [==============================] - 21s 212ms/step - loss: 0.1789 - accuracy: 0.9466 - val_loss: 0.0652 - val_accuracy: 0.9801\n",
      "Epoch 161/200\n",
      "100/100 [==============================] - 21s 212ms/step - loss: 0.2142 - accuracy: 0.9356 - val_loss: 0.0622 - val_accuracy: 0.9810\n",
      "Epoch 162/200\n",
      "100/100 [==============================] - 21s 213ms/step - loss: 0.2062 - accuracy: 0.9372 - val_loss: 0.0676 - val_accuracy: 0.9785\n",
      "Epoch 163/200\n",
      "100/100 [==============================] - 21s 212ms/step - loss: 0.2029 - accuracy: 0.9375 - val_loss: 0.0617 - val_accuracy: 0.9820\n",
      "Epoch 164/200\n",
      "100/100 [==============================] - 21s 210ms/step - loss: 0.2065 - accuracy: 0.9358 - val_loss: 0.0619 - val_accuracy: 0.9810\n",
      "Epoch 165/200\n",
      "100/100 [==============================] - 21s 212ms/step - loss: 0.1981 - accuracy: 0.9380 - val_loss: 0.0654 - val_accuracy: 0.9788\n",
      "Epoch 166/200\n",
      "100/100 [==============================] - 21s 213ms/step - loss: 0.2062 - accuracy: 0.9356 - val_loss: 0.0634 - val_accuracy: 0.9801\n",
      "Epoch 167/200\n",
      "100/100 [==============================] - 21s 211ms/step - loss: 0.2069 - accuracy: 0.9362 - val_loss: 0.0634 - val_accuracy: 0.9797\n",
      "Epoch 168/200\n",
      "100/100 [==============================] - 21s 212ms/step - loss: 0.2202 - accuracy: 0.9319 - val_loss: 0.0689 - val_accuracy: 0.9785\n",
      "Epoch 169/200\n",
      "100/100 [==============================] - 21s 215ms/step - loss: 0.1938 - accuracy: 0.9438 - val_loss: 0.0674 - val_accuracy: 0.9788\n",
      "Epoch 170/200\n",
      "100/100 [==============================] - 21s 212ms/step - loss: 0.1990 - accuracy: 0.9389 - val_loss: 0.0635 - val_accuracy: 0.9802\n",
      "Epoch 171/200\n",
      "100/100 [==============================] - 21s 212ms/step - loss: 0.1995 - accuracy: 0.9358 - val_loss: 0.0606 - val_accuracy: 0.9819\n",
      "Epoch 172/200\n",
      "100/100 [==============================] - 21s 214ms/step - loss: 0.2005 - accuracy: 0.9383 - val_loss: 0.0639 - val_accuracy: 0.9802\n",
      "Epoch 173/200\n",
      "100/100 [==============================] - 23s 227ms/step - loss: 0.1993 - accuracy: 0.9355 - val_loss: 0.0603 - val_accuracy: 0.9807\n",
      "Epoch 174/200\n",
      "100/100 [==============================] - 21s 215ms/step - loss: 0.2005 - accuracy: 0.9378 - val_loss: 0.0737 - val_accuracy: 0.9773\n",
      "Epoch 175/200\n",
      "100/100 [==============================] - 21s 210ms/step - loss: 0.2056 - accuracy: 0.9356 - val_loss: 0.0656 - val_accuracy: 0.9795\n",
      "Epoch 176/200\n",
      "100/100 [==============================] - 21s 212ms/step - loss: 0.2062 - accuracy: 0.9341 - val_loss: 0.0541 - val_accuracy: 0.9828\n",
      "Epoch 177/200\n",
      "100/100 [==============================] - 21s 212ms/step - loss: 0.2203 - accuracy: 0.9342 - val_loss: 0.0678 - val_accuracy: 0.9780\n",
      "Epoch 178/200\n",
      "100/100 [==============================] - 21s 215ms/step - loss: 0.1650 - accuracy: 0.9495 - val_loss: 0.0626 - val_accuracy: 0.9802\n",
      "Epoch 179/200\n",
      "100/100 [==============================] - 21s 214ms/step - loss: 0.1766 - accuracy: 0.9450 - val_loss: 0.0617 - val_accuracy: 0.9813\n",
      "Epoch 180/200\n",
      "100/100 [==============================] - 21s 210ms/step - loss: 0.2105 - accuracy: 0.9362 - val_loss: 0.0755 - val_accuracy: 0.9761\n",
      "Epoch 181/200\n",
      "100/100 [==============================] - 21s 212ms/step - loss: 0.2111 - accuracy: 0.9339 - val_loss: 0.0578 - val_accuracy: 0.9827\n",
      "Epoch 182/200\n",
      "100/100 [==============================] - 21s 212ms/step - loss: 0.1939 - accuracy: 0.9417 - val_loss: 0.0634 - val_accuracy: 0.9800\n",
      "Epoch 183/200\n",
      "100/100 [==============================] - 21s 212ms/step - loss: 0.1921 - accuracy: 0.9416 - val_loss: 0.0564 - val_accuracy: 0.9817\n",
      "Epoch 184/200\n",
      "100/100 [==============================] - 21s 214ms/step - loss: 0.1903 - accuracy: 0.9414 - val_loss: 0.0618 - val_accuracy: 0.9800\n",
      "Epoch 185/200\n",
      "100/100 [==============================] - 21s 214ms/step - loss: 0.2170 - accuracy: 0.9362 - val_loss: 0.0652 - val_accuracy: 0.9804\n",
      "Epoch 186/200\n",
      "100/100 [==============================] - 21s 214ms/step - loss: 0.2267 - accuracy: 0.9281 - val_loss: 0.0569 - val_accuracy: 0.9802\n",
      "Epoch 187/200\n",
      "100/100 [==============================] - 21s 211ms/step - loss: 0.1913 - accuracy: 0.9419 - val_loss: 0.0643 - val_accuracy: 0.9812\n",
      "Epoch 188/200\n",
      "100/100 [==============================] - 21s 214ms/step - loss: 0.1715 - accuracy: 0.9466 - val_loss: 0.0634 - val_accuracy: 0.9785\n",
      "Epoch 189/200\n",
      "100/100 [==============================] - 21s 213ms/step - loss: 0.2090 - accuracy: 0.9334 - val_loss: 0.0657 - val_accuracy: 0.9809\n",
      "Epoch 190/200\n",
      "100/100 [==============================] - 21s 212ms/step - loss: 0.2051 - accuracy: 0.9337 - val_loss: 0.0745 - val_accuracy: 0.9767\n",
      "Epoch 191/200\n",
      "100/100 [==============================] - 21s 211ms/step - loss: 0.1882 - accuracy: 0.9439 - val_loss: 0.0663 - val_accuracy: 0.9790\n",
      "Epoch 192/200\n",
      "100/100 [==============================] - 21s 210ms/step - loss: 0.2047 - accuracy: 0.9373 - val_loss: 0.0597 - val_accuracy: 0.9817\n",
      "Epoch 193/200\n",
      "100/100 [==============================] - 21s 212ms/step - loss: 0.2173 - accuracy: 0.9323 - val_loss: 0.0567 - val_accuracy: 0.9814\n",
      "Epoch 194/200\n",
      "100/100 [==============================] - 21s 212ms/step - loss: 0.2030 - accuracy: 0.9369 - val_loss: 0.0609 - val_accuracy: 0.9802\n",
      "Epoch 195/200\n",
      "100/100 [==============================] - 22s 217ms/step - loss: 0.2178 - accuracy: 0.9353 - val_loss: 0.0577 - val_accuracy: 0.9814\n",
      "Epoch 196/200\n",
      "100/100 [==============================] - 21s 212ms/step - loss: 0.2202 - accuracy: 0.9344 - val_loss: 0.0573 - val_accuracy: 0.9812\n",
      "Epoch 197/200\n",
      "100/100 [==============================] - 21s 212ms/step - loss: 0.1604 - accuracy: 0.9531 - val_loss: 0.0616 - val_accuracy: 0.9801\n",
      "Epoch 198/200\n",
      "100/100 [==============================] - 21s 214ms/step - loss: 0.1835 - accuracy: 0.9461 - val_loss: 0.0740 - val_accuracy: 0.9750\n",
      "Epoch 199/200\n",
      "100/100 [==============================] - 22s 217ms/step - loss: 0.1915 - accuracy: 0.9413 - val_loss: 0.0665 - val_accuracy: 0.9795\n",
      "Epoch 200/200\n",
      "100/100 [==============================] - 21s 214ms/step - loss: 0.1955 - accuracy: 0.9370 - val_loss: 0.0674 - val_accuracy: 0.9801\n"
     ]
    },
    {
     "ename": "KeyError",
     "evalue": "('loss', 'g')",
     "output_type": "error",
     "traceback": [
      "\u001b[0;31m---------------------------------------------------------------------------\u001b[0m",
      "\u001b[0;31mKeyError\u001b[0m                                  Traceback (most recent call last)",
      "Input \u001b[0;32mIn [50]\u001b[0m, in \u001b[0;36m<module>\u001b[0;34m\u001b[0m\n\u001b[1;32m      4\u001b[0m generator \u001b[38;5;241m=\u001b[39m dt\u001b[38;5;241m.\u001b[39mgenerators\u001b[38;5;241m.\u001b[39mGenerator()\u001b[38;5;241m.\u001b[39mgenerate(\n\u001b[1;32m      5\u001b[0m     augmented_training_set,\n\u001b[1;32m      6\u001b[0m     get_label,\n\u001b[1;32m      7\u001b[0m     batch_size \u001b[38;5;241m=\u001b[39m \u001b[38;5;241m64\u001b[39m\n\u001b[1;32m      8\u001b[0m )\n\u001b[1;32m     10\u001b[0m h \u001b[38;5;241m=\u001b[39m model\u001b[38;5;241m.\u001b[39mfit(\n\u001b[1;32m     11\u001b[0m     generator,\n\u001b[1;32m     12\u001b[0m     validation_data \u001b[38;5;241m=\u001b[39m (validation_images, \n\u001b[0;32m   (...)\u001b[0m\n\u001b[1;32m     15\u001b[0m     epochs \u001b[38;5;241m=\u001b[39m \u001b[38;5;241m200\u001b[39m\n\u001b[1;32m     16\u001b[0m )\n\u001b[0;32m---> 18\u001b[0m plt\u001b[38;5;241m.\u001b[39mplot(\u001b[43mh\u001b[49m\u001b[38;5;241;43m.\u001b[39;49m\u001b[43mhistory\u001b[49m\u001b[43m[\u001b[49m\u001b[38;5;124;43m\"\u001b[39;49m\u001b[38;5;124;43mloss\u001b[39;49m\u001b[38;5;124;43m\"\u001b[39;49m\u001b[43m,\u001b[49m\u001b[43m \u001b[49m\u001b[38;5;124;43m'\u001b[39;49m\u001b[38;5;124;43mg\u001b[39;49m\u001b[38;5;124;43m'\u001b[39;49m\u001b[43m]\u001b[49m)\n\u001b[1;32m     19\u001b[0m plt\u001b[38;5;241m.\u001b[39mplot(h\u001b[38;5;241m.\u001b[39mhistory[\u001b[38;5;124m\"\u001b[39m\u001b[38;5;124mval_loss\u001b[39m\u001b[38;5;124m\"\u001b[39m, \u001b[38;5;124m'\u001b[39m\u001b[38;5;124mr\u001b[39m\u001b[38;5;124m'\u001b[39m])\n\u001b[1;32m     20\u001b[0m plt\u001b[38;5;241m.\u001b[39mlegend([\u001b[38;5;124m\"\u001b[39m\u001b[38;5;124mLoss\u001b[39m\u001b[38;5;124m\"\u001b[39m, \u001b[38;5;124m\"\u001b[39m\u001b[38;5;124mValidation loss\u001b[39m\u001b[38;5;124m\"\u001b[39m])\n",
      "\u001b[0;31mKeyError\u001b[0m: ('loss', 'g')"
     ]
    }
   ],
   "source": [
    "TRAIN_MODEL = True\n",
    "\n",
    "if TRAIN_MODEL:\n",
    "    generator = dt.generators.Generator().generate(\n",
    "        augmented_training_set,\n",
    "        get_label,\n",
    "        batch_size = 64\n",
    "    )\n",
    "\n",
    "    h = model.fit(\n",
    "        generator,\n",
    "        validation_data = (validation_images, \n",
    "                           validation_labels),\n",
    "        steps_per_epoch = 100,\n",
    "        epochs = 200\n",
    "    )\n",
    "\n",
    "    plt.plot(h.history[\"loss\"], 'g')\n",
    "    plt.plot(h.history[\"val_loss\"], 'r')\n",
    "    plt.legend([\"Loss\", \"Validation loss\"])\n",
    "    plt.yscale(\"log\")\n",
    "    plt.show()\n",
    "\n",
    "else:\n",
    "    model_path = datasets.load_model(\"MNIST\")\n",
    "    model.load_weights(model_path)"
   ]
  },
  {
   "cell_type": "code",
   "execution_count": 52,
   "metadata": {},
   "outputs": [
    {
     "data": {
      "image/png": "[encoded data removed]",
      "text/plain": [
       "<Figure size 432x288 with 1 Axes>"
      ]
     },
     "metadata": {
      "needs_background": "light"
     },
     "output_type": "display_data"
    }
   ],
   "source": [
    "    plt.plot(h.history[\"loss\"], 'g')\n",
    "    plt.plot(h.history[\"val_loss\"], 'r')\n",
    "    plt.legend([\"Loss\", \"Validation loss\"])\n",
    "    plt.yscale(\"log\")\n",
    "    plt.show()"
   ]
  },
  {
   "cell_type": "code",
   "execution_count": 127,
   "metadata": {},
   "outputs": [
    {
     "name": "stdout",
     "output_type": "stream",
     "text": [
      "Accuracy: 0.9801\n",
      "Error rate: 0.01990000000000003\n"
     ]
    }
   ],
   "source": [
    "array_of_images = validation_images\n",
    "array_of_labels = validation_labels\n",
    "\n",
    "predicted_digits = np.argmax(model.predict(array_of_images), axis = 1)\n",
    "\n",
    "accuracy = np.mean(np.array(array_of_labels) == predicted_digits)\n",
    "print(\"Accuracy:\", accuracy)\n",
    "print(\"Error rate:\", 1 - accuracy)"
   ]
  },
  {
   "cell_type": "code",
   "execution_count": 152,
   "metadata": {},
   "outputs": [
    {
     "name": "stdout",
     "output_type": "stream",
     "text": [
      "<module 'matplotlib.pyplot' from '/Users/muhr/opt/miniconda3/envs/kandidat/lib/python3.9/site-packages/matplotlib/pyplot.py'>\n",
      "The image shows the digit 7 \n",
      " The model predicted the digit 7\n"
     ]
    },
    {
     "ename": "TypeError",
     "evalue": "'str' object is not callable",
     "output_type": "error",
     "traceback": [
      "\u001b[0;31m---------------------------------------------------------------------------\u001b[0m",
      "\u001b[0;31mTypeError\u001b[0m                                 Traceback (most recent call last)",
      "Input \u001b[0;32mIn [152]\u001b[0m, in \u001b[0;36m<module>\u001b[0;34m\u001b[0m\n\u001b[1;32m      7\u001b[0m plt\u001b[38;5;241m.\u001b[39mimshow(image_to_show)\n\u001b[1;32m      8\u001b[0m \u001b[38;5;28mprint\u001b[39m(TITLE_STRING\u001b[38;5;241m.\u001b[39mformat(array_of_labels[image_index], predicted_digits[image_index]))\n\u001b[0;32m----> 9\u001b[0m \u001b[43mplt\u001b[49m\u001b[38;5;241;43m.\u001b[39;49m\u001b[43mtitle\u001b[49m\u001b[43m(\u001b[49m\u001b[38;5;124;43m\"\u001b[39;49m\u001b[38;5;124;43m2\u001b[39;49m\u001b[38;5;124;43m\"\u001b[39;49m\u001b[43m)\u001b[49m\n\u001b[1;32m     10\u001b[0m plt\u001b[38;5;241m.\u001b[39mshow()\n",
      "\u001b[0;31mTypeError\u001b[0m: 'str' object is not callable"
     ]
    },
    {
     "data": {
      "image/png": "[encoded data removed]",
      "text/plain": [
       "<Figure size 432x288 with 1 Axes>"
      ]
     },
     "metadata": {
      "needs_background": "light"
     },
     "output_type": "display_data"
    }
   ],
   "source": [
    "TITLE_STRING = \"The image shows the digit {0} \\n The model predicted the digit {1}\"\n",
    "\n",
    "print(plt)\n",
    "\n",
    "for image_index in range(NUMBER_OF_IMAGES):\n",
    "    image_to_show = np.reshape(array_of_images[image_index], (28, 28))\n",
    "    plt.imshow(image_to_show)\n",
    "    print(TITLE_STRING.format(array_of_labels[image_index], predicted_digits[image_index]))\n",
    "    plt.title(\"2\")\n",
    "    plt.show()"
   ]
  },
  {
   "cell_type": "code",
   "execution_count": 124,
   "metadata": {},
   "outputs": [
    {
     "ename": "TypeError",
     "evalue": "'str' object is not callable",
     "output_type": "error",
     "traceback": [
      "\u001b[0;31m---------------------------------------------------------------------------\u001b[0m",
      "\u001b[0;31mTypeError\u001b[0m                                 Traceback (most recent call last)",
      "Input \u001b[0;32mIn [124]\u001b[0m, in \u001b[0;36m<module>\u001b[0;34m\u001b[0m\n\u001b[1;32m     10\u001b[0m image_to_show \u001b[38;5;241m=\u001b[39m np\u001b[38;5;241m.\u001b[39mreshape(array_of_hard_images[image_index], (\u001b[38;5;241m28\u001b[39m, \u001b[38;5;241m28\u001b[39m))\n\u001b[1;32m     11\u001b[0m plt\u001b[38;5;241m.\u001b[39mimshow(image_to_show)\n\u001b[0;32m---> 12\u001b[0m \u001b[43mplt\u001b[49m\u001b[38;5;241;43m.\u001b[39;49m\u001b[43mtitle\u001b[49m\u001b[43m(\u001b[49m\u001b[43mTITLE_STRING\u001b[49m\u001b[38;5;241;43m.\u001b[39;49m\u001b[43mformat\u001b[49m\u001b[43m(\u001b[49m\u001b[43marray_of_hard_labels\u001b[49m\u001b[43m[\u001b[49m\u001b[43mimage_index\u001b[49m\u001b[43m]\u001b[49m\u001b[43m,\u001b[49m\u001b[43m \u001b[49m\u001b[43minnacurately_predicted_digits\u001b[49m\u001b[43m[\u001b[49m\u001b[43mimage_index\u001b[49m\u001b[43m]\u001b[49m\u001b[43m)\u001b[49m\u001b[43m)\u001b[49m\n\u001b[1;32m     13\u001b[0m plt\u001b[38;5;241m.\u001b[39mshow()\n",
      "\u001b[0;31mTypeError\u001b[0m: 'str' object is not callable"
     ]
    },
    {
     "data": {
      "image/png": "[encoded data removed]",
      "text/plain": [
       "<Figure size 432x288 with 1 Axes>"
      ]
     },
     "metadata": {
      "needs_background": "light"
     },
     "output_type": "display_data"
    }
   ],
   "source": [
    "TITLE_STRING = \"The image shows the digit {0} \\n The model predicted the digit {1}\"\n",
    "\n",
    "model_is_wrong = predicted_digits != array_of_labels\n",
    "\n",
    "array_of_hard_images = array_of_images[model_is_wrong]\n",
    "array_of_hard_labels = array_of_labels[model_is_wrong]\n",
    "innacurately_predicted_digits = predicted_digits[model_is_wrong]\n",
    "\n",
    "for image_index in range(NUMBER_OF_IMAGES):\n",
    "    image_to_show = np.reshape(array_of_hard_images[image_index], (28, 28))\n",
    "    plt.imshow(image_to_show)\n",
    "    plt.title(TITLE_STRING.format(array_of_hard_labels[image_index], innacurately_predicted_digits[image_index]))\n",
    "    plt.show()"
   ]
  },
  {
   "cell_type": "code",
   "execution_count": 78,
   "metadata": {},
   "outputs": [
    {
     "name": "stdout",
     "output_type": "stream",
     "text": [
      "The image shows the digit 1 \n",
      " The model predicted the digit 2\n"
     ]
    }
   ],
   "source": [
    "print(TITLE_STRING.format(1, 2))"
   ]
  },
  {
   "cell_type": "code",
   "execution_count": null,
   "metadata": {},
   "outputs": [],
   "source": []
  },
  {
   "cell_type": "code",
   "execution_count": null,
   "metadata": {},
   "outputs": [],
   "source": []
  }
 ],
 "metadata": {
  "interpreter": {
   "hash": "db85214c54ba883c6fce2bd9f280cf770a7972e5649c294727a352bb84ff2f30"
  },
  "kernelspec": {
   "display_name": "Python 3.9.7 64-bit ('kandidat': conda)",
   "language": "python",
   "name": "python3"
  },
  "language_info": {
   "codemirror_mode": {
    "name": "ipython",
    "version": 3
   },
   "file_extension": ".py",
   "mimetype": "text/x-python",
   "name": "python",
   "nbconvert_exporter": "python",
   "pygments_lexer": "ipython3",
   "version": "3.9.9"
  },
  "orig_nbformat": 4
 },
 "nbformat": 4,
 "nbformat_minor": 2
}
